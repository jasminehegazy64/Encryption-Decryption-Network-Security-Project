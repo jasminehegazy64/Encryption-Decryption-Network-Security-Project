{
 "cells": [
  {
   "cell_type": "code",
   "execution_count": null,
   "metadata": {},
   "outputs": [],
   "source": [
    "import numpy as np \n",
    "import tkinter as tk\n",
    "from tkinter import filedialog\n",
    "\n",
    "from CeaserCipher import caesar_cipher,encryptByPlayfairCipher,removeSpaces,toLowerCase,FillerLetter,Diagraph,generateKeyTable,HillCipher,vigenere_cipher,vernam_cipher"
   ]
  },
  {
   "cell_type": "code",
   "execution_count": 8,
   "metadata": {},
   "outputs": [
    {
     "name": "stderr",
     "output_type": "stream",
     "text": [
      "Exception in Tkinter callback\n",
      "Traceback (most recent call last):\n",
      "  File \"C:\\Program Files\\WindowsApps\\PythonSoftwareFoundation.Python.3.10_3.10.3056.0_x64__qbz5n2kfra8p0\\lib\\tkinter\\__init__.py\", line 1921, in __call__\n",
      "    return self.func(*args)\n",
      "  File \"C:\\Users\\USER\\AppData\\Local\\Temp\\ipykernel_2660\\46817947.py\", line 50, in encrypt_text\n",
      "    encrypted_text== vigenere_cipher(text_to_encrypt, key=\"AETHER\", auto_mode=True)\n",
      "UnboundLocalError: local variable 'encrypted_text' referenced before assignment\n"
     ]
    }
   ],
   "source": [
    "class CipherApp:\n",
    "    def __init__(self, root):\n",
    "        self.root = root\n",
    "        self.root.title(\"Cipher Application\")\n",
    "\n",
    "        # File selection\n",
    "        self.file_label = tk.Label(root, text=\"Select a text file:\")\n",
    "        self.file_label.pack(pady=10)\n",
    "        self.file_button = tk.Button(root, text=\"Choose File\", command=self.choose_file)\n",
    "        self.file_button.pack()\n",
    "\n",
    "        # Cipher selection\n",
    "        self.cipher_label = tk.Label(root, text=\"Choose a cipher method:\")\n",
    "        self.cipher_label.pack(pady=10)\n",
    "        self.cipher_options = [\"Caesar Cipher\", \"Playfair Cipher\", \"Hill cipher\", \"Vernam Cipher\", \"Vigenere auto Cipher\",\"Vigenere repeating Cipher\" ]  # Add more options as needed\n",
    "        self.cipher_var = tk.StringVar(root)\n",
    "        self.cipher_var.set(self.cipher_options[0])\n",
    "        self.cipher_dropdown = tk.OptionMenu(root, self.cipher_var, *self.cipher_options)\n",
    "        self.cipher_dropdown.pack()\n",
    "\n",
    "        # Encrypt button\n",
    "        self.encrypt_button = tk.Button(root, text=\"Encrypt\", command=self.encrypt_text)\n",
    "        self.encrypt_button.pack(pady=20)\n",
    "        # Text widget for displaying result\n",
    "        self.result_text = tk.Text(root, height=10, width=50)\n",
    "        self.result_text.pack()\n",
    "\n",
    "    def choose_file(self):\n",
    "        file_path = filedialog.askopenfilename(filetypes=[(\"Text files\", \"*.txt\")])\n",
    "        if file_path:\n",
    "            self.file_label.config(text=f\"Selected File: {file_path}\")\n",
    "            self.file_path = file_path\n",
    "\n",
    "    def encrypt_text(self):\n",
    "        #output_file=r\"C:\\Users\\USER\\Desktop\\NetworkSecurity\\CCoutput.txt\"\n",
    "        if hasattr(self, 'file_path'):\n",
    "            selected_cipher = self.cipher_var.get()\n",
    "            with open(self.file_path, 'r') as file:\n",
    "                text_to_encrypt = file.read()\n",
    "\n",
    "            if selected_cipher == \"Caesar Cipher\":\n",
    "                encrypted_text = caesar_cipher(text_to_encrypt, 3)  # Adjust parameters\n",
    "            elif selected_cipher == \"Playfair Cipher\":\n",
    "                encrypted_text = encryptByPlayfairCipher(text_to_encrypt, key=\"KEYWORD\")  # Adjust parameters\n",
    "            elif selected_cipher==\"Hill Cipher\":\n",
    "                encrypted_text= HillCipher(text_to_encrypt,key=\"GYBNQKURP\")\n",
    "            elif selected_cipher==\"Vernam Cipher\":\n",
    "                encrypted_text= vernam_cipher(text_to_encrypt, key=\"SPARTANS\")\n",
    "            elif selected_cipher==\"Vigenere auto Cipher\":\n",
    "                encrypted_text== vigenere_cipher(text_to_encrypt, key=\"AETHER\", auto_mode=True)\n",
    "            elif selected_cipher==\"Vigenere repeating Cipher\":\n",
    "                encrypted_text== vigenere_cipher(text_to_encrypt,key=\"PIE\",auto_mode=False )\n",
    "            else:\n",
    "                encrypted_text = \"Invalid Cipher\"\n",
    "            # Display the result in the Text widget\n",
    "            self.result_text.delete(1.0, tk.END)\n",
    "            self.result_text.insert(tk.END, encrypted_text)\n",
    "\n",
    "            # Do something with the encrypted text (display, save, etc.)\n",
    "            print(\"Encrypted Text:\", encrypted_text)\n",
    "        else:\n",
    "            print(\"Please select a text file first.\")\n",
    "        \n",
    "\n",
    "if __name__ == \"__main__\":\n",
    "    root = tk.Tk()\n",
    "    app = CipherApp(root)\n",
    "    root.mainloop()\n"
   ]
  }
 ],
 "metadata": {
  "kernelspec": {
   "display_name": "Python 3",
   "language": "python",
   "name": "python3"
  },
  "language_info": {
   "codemirror_mode": {
    "name": "ipython",
    "version": 3
   },
   "file_extension": ".py",
   "mimetype": "text/x-python",
   "name": "python",
   "nbconvert_exporter": "python",
   "pygments_lexer": "ipython3",
   "version": "3.10.11"
  }
 },
 "nbformat": 4,
 "nbformat_minor": 2
}
